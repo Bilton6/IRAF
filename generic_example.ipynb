{
 "cells": [
  {
   "cell_type": "markdown",
   "id": "756833f2",
   "metadata": {},
   "source": [
    "<h1 align=\"center\"> Generic AutoPHoT Example</h1> \n",
    "\n",
    "This notebook aims to serves as a fast way to perform photometry with AutoPHoT"
   ]
  },
  {
   "cell_type": "code",
   "execution_count": 31,
   "id": "5aea505e",
   "metadata": {},
   "outputs": [
    {
     "name": "stdout",
     "output_type": "stream",
     "text": [
      "Default input loaded in from: \n",
      "/opt/anaconda3/envs/ap/site-packages/autophot/databases/default_input.yml\n"
     ]
    }
   ],
   "source": [
    "import autophot\n",
    "from autophot.prep_input import load\n",
    "\n",
    "# Load in command dictionary\n",
    "autophot_input = load()"
   ]
  },
  {
   "cell_type": "code",
   "execution_count": 32,
   "id": "2ef10e16",
   "metadata": {},
   "outputs": [],
   "source": [
    "# Location of your folder of fits images\n",
    "autophot_input['fits_dir'] = '/Users/snehasish/Desktop/Photmetry/'"
   ]
  },
  {
   "cell_type": "code",
   "execution_count": 33,
   "id": "fa40b86b",
   "metadata": {},
   "outputs": [],
   "source": [
    "# Location of autophot database and calibration files\n",
    "autophot_input['wdir'] = '/opt/anaconda3/envs/ap/site-packages/autophot/databases'"
   ]
  },
  {
   "cell_type": "code",
   "execution_count": 34,
   "id": "a04e248c",
   "metadata": {},
   "outputs": [],
   "source": [
    "# Target coordinates in degrees\n",
    "autophot_input['target_ra'] = 169.592030529 \n",
    "autophot_input['target_dec'] = -32.8375756395"
   ]
  },
  {
   "cell_type": "markdown",
   "id": "946111b3",
   "metadata": {},
   "source": [
    "<h2 align=\"center\">World Coordinate System </h2> \n"
   ]
  },
  {
   "cell_type": "code",
   "execution_count": 35,
   "id": "766e6337",
   "metadata": {},
   "outputs": [],
   "source": [
    "# Update location of solve-field\n",
    "autophot_input['wcs']['solve_field_exe_loc'] = ''\n",
    "\n",
    "# remove any wcs that pre-existing on the images - this is recommended\n",
    "autophot_input['wcs']['remove_wcs'] = True"
   ]
  },
  {
   "cell_type": "markdown",
   "id": "d4b5912b",
   "metadata": {},
   "source": [
    "<h3 align=\"center\">World Coordinate System </h3> \n",
    "Select what catalog you want to use for your calibrations. Select from the following list:\n",
    "\n",
    "1. sdss\n",
    "2. apass\n",
    "3. pan_starrs\n",
    "4. skymapper\n",
    "5. 2mass\n",
    "6. custom\n",
    "\n",
    "if *use_catalog* is 'custom', you need to set 'catalog_custom_fpath'"
   ]
  },
  {
   "cell_type": "code",
   "execution_count": 36,
   "id": "c8047970",
   "metadata": {},
   "outputs": [],
   "source": [
    "autophot_input['catalog']['use_catalog'] = '2mass' \n",
    "\n",
    "\n",
    "# This needs to be filled in if you're using your own catalog\n",
    "autophot_input['catalog']['catalog_custom_fpath'] = ''"
   ]
  },
  {
   "cell_type": "markdown",
   "id": "914bf8fe",
   "metadata": {},
   "source": [
    "<h3 align=\"center\"> Do you want to use aperture photometry? </h3> \n",
    "\n",
    "Use aperture photometry rather than PSF photometry. In this case the script will still try to build the PSF model and save it as a fits file"
   ]
  },
  {
   "cell_type": "code",
   "execution_count": 37,
   "id": "3025009c",
   "metadata": {},
   "outputs": [],
   "source": [
    "autophot_input['photometry']['do_ap_phot'] = True"
   ]
  },
  {
   "cell_type": "markdown",
   "id": "3f346720",
   "metadata": {},
   "source": [
    "<h3 align=\"center\"> Use your own PSF stars? </h3> \n",
    "\n",
    "If you want to use PSF photometry the code will try to find bright isolated sources. If you want to specify what sources you want to use to build the PSF model on, include the '*psf_starlist*' commadn which points to the RA/DEC of the PSF stars"
   ]
  },
  {
   "cell_type": "code",
   "execution_count": 38,
   "id": "30218f95",
   "metadata": {},
   "outputs": [],
   "source": [
    "autophot_input['psf']['use_PSF_starlist'] = False\n",
    "autophot_input['psf']['PSF_starlist']=''"
   ]
  },
  {
   "cell_type": "markdown",
   "id": "81a3ae16",
   "metadata": {},
   "source": [
    "<h3 align=\"center\"> Template subtraction </h3> \n",
    "\n",
    "If you have templates ready, we can include template subtraction in our reductions"
   ]
  },
  {
   "cell_type": "code",
   "execution_count": 39,
   "id": "7b33256b",
   "metadata": {},
   "outputs": [],
   "source": [
    "# Perform template subtraction\n",
    "autophot_input['template_subtraction']['do_subtraction'] = False\n",
    "\n",
    "# Location of the HOTPANTS executable\n",
    "autophot_input['template_subtraction']['hotpants_exe_loc'] = ''\n",
    "\n",
    "\n",
    "# Use Zogy rather than HOTPANTS\n",
    "autophot_input['template_subtraction']['use_zogy'] = False\n",
    "\n",
    "# Use pixels rather than sources for imaghe matching with zogy\n",
    "autophot_input['template_subtraction']['zogy_use_pixel'] = False"
   ]
  },
  {
   "cell_type": "markdown",
   "id": "f367b298",
   "metadata": {},
   "source": [
    "<h3 align=\"center\"> Lets go! </h3> \n"
   ]
  },
  {
   "cell_type": "code",
   "execution_count": 40,
   "id": "e8b1a066",
   "metadata": {},
   "outputs": [
    {
     "name": "stderr",
     "output_type": "stream",
     "text": [
      "\n",
      "User instrument database: /opt/anaconda3/envs/ap/site-packages/autophot/databases/telescope.yml\n",
      "\n",
      "Number of files: 1\n",
      "\n",
      "1 telescope(s) detected - checking header keywords\n",
      "\n"
     ]
    },
    {
     "name": "stdout",
     "output_type": "stream",
     "text": [
      "\n",
      "        _       _       ___ _  _    _____\n",
      "       /_\\ _  _| |_ ___| _ \\ || |__|_   _|\n",
      "      / _ \\ || |  _/ _ \\  _/ __ / _ \\| |\n",
      "     /_/ \\_\\_,_|\\__\\___/_| |_||_\\___/|_|\n",
      "    \n",
      "     ---------------------------------------\n",
      "        Automated Photometry of Transients\n",
      "        S. J. Brennan et al. 2021 \n",
      "        Please provide feedback/bugs to:\n",
      "        Email: sean.brennan2@ucdconnect.ie\n",
      "    ---------------------------------------\n",
      "Directory of fits file: /Users/snehasish/Desktop/Photmetry/\n",
      "Found Telescopes:\n",
      "\n",
      " - SLT\n",
      "\n",
      "-> Telescope check complete\n",
      "\n",
      "Checking Filter keywords and database\n",
      "\n",
      "-> Filter check complete\n",
      "\n",
      "Checking Filter information for each image\n",
      "\n",
      "Files removed - Wrong Image Type: 0\n",
      "\n",
      "Files removed - No/Wrong filter(s): 1\n",
      "Filters not included: [r]\n",
      "\n",
      "\n",
      "Files removed: 1\n",
      "\n",
      "---\n",
      "\n",
      "Files that failed : []\n",
      "\n",
      "DONE\n",
      "\n",
      "Done - Time Taken: 0.1\n"
     ]
    }
   ],
   "source": [
    "from autophot.autophot_main import run_automatic_autophot\n",
    "run_automatic_autophot(autophot_input)"
   ]
  },
  {
   "cell_type": "code",
   "execution_count": 41,
   "id": "a8362d8e",
   "metadata": {},
   "outputs": [
    {
     "name": "stdout",
     "output_type": "stream",
     "text": [
      "Old GAIN value: 1.088\n",
      "Updated GAIN value: 1.088\n",
      "Old RMSNOISE value: 8.0\n",
      "Updated RMSNOISE value: 8.0\n"
     ]
    }
   ],
   "source": [
    "from astropy.io import fits\n",
    "\n",
    "# Path to your FITS file\n",
    "file_path = 'calibrated_SN2024ggi-20240412_171135-rp_Astrodon_2018.fts'\n",
    "\n",
    "# New float values for the headers\n",
    "new_gain_value = 1.088\n",
    "new_rmsnoise_value = 8.\n",
    "\n",
    "# Open the FITS file in update mode\n",
    "with fits.open(file_path, mode='update') as hdul:\n",
    "    # Access the primary header (or specify another HDU if needed)\n",
    "    header = hdul[0].header\n",
    "    \n",
    "    # Update GAIN header\n",
    "    old_gain_value = header.get('GAIN')\n",
    "    print(f\"Old GAIN value: {old_gain_value}\")\n",
    "    header['GAIN'] = new_gain_value\n",
    "    print(f\"Updated GAIN value: {header['GAIN']}\")\n",
    "    \n",
    "    # Update RMSNOISE header\n",
    "    old_rmsnoise_value = header.get('RMSNOISE')\n",
    "    print(f\"Old RMSNOISE value: {old_rmsnoise_value}\")\n",
    "    header['RMSNOISE'] = new_rmsnoise_value\n",
    "    print(f\"Updated RMSNOISE value: {header['RMSNOISE']}\")\n",
    "    \n",
    "    # Save the changes\n",
    "    hdul.flush()\n"
   ]
  },
  {
   "cell_type": "code",
   "execution_count": null,
   "id": "9f20a8f8",
   "metadata": {},
   "outputs": [],
   "source": [
    "PESSTOEFOSC1dSPEC your2dfilename"
   ]
  }
 ],
 "metadata": {
  "kernelspec": {
   "display_name": "Python 3 (ipykernel)",
   "language": "python",
   "name": "python3"
  },
  "language_info": {
   "codemirror_mode": {
    "name": "ipython",
    "version": 3
   },
   "file_extension": ".py",
   "mimetype": "text/x-python",
   "name": "python",
   "nbconvert_exporter": "python",
   "pygments_lexer": "ipython3",
   "version": "3.7.12"
  }
 },
 "nbformat": 4,
 "nbformat_minor": 5
}
